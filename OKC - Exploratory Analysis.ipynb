{
 "cells": [
  {
   "cell_type": "markdown",
   "metadata": {},
   "source": [
    "### OKC - Exploratory Analysis\n",
    "\n",
    "We will look for interesting correlations within the data and briefly explore any interesting trends that we come across. Finally, we will experiment with some machine learning algorithms. \n"
   ]
  },
  {
   "cell_type": "code",
   "execution_count": 23,
   "metadata": {
    "collapsed": true
   },
   "outputs": [],
   "source": [
    "import pandas as pd\n",
    "import numpy as np\n",
    "import matplotlib.pyplot as plt\n",
    "import seaborn as sns\n",
    "from sklearn import metrics\n",
    "from sklearn.preprocessing import MinMaxScaler\n",
    "\n",
    "%matplotlib inline\n",
    "#display floats with sci notation\n",
    "#pd.options.display.float_format = '{:40,.4f}'.format"
   ]
  },
  {
   "cell_type": "code",
   "execution_count": 96,
   "metadata": {
    "scrolled": true
   },
   "outputs": [
    {
     "data": {
      "text/plain": [
       "(68371, 2625)"
      ]
     },
     "execution_count": 96,
     "metadata": {},
     "output_type": "execute_result"
    }
   ],
   "source": [
    "#okc_df = pd.read_csv('okc_bullied.txt', sep='\\t', low_memory=False)\n",
    "okc_master_df = pd.read_csv('user_data_public.csv', sep=',', low_memory=False)\n",
    "okc_master_df.shape"
   ]
  },
  {
   "cell_type": "code",
   "execution_count": 98,
   "metadata": {},
   "outputs": [
    {
     "data": {
      "text/plain": [
       "(12527, 2625)"
      ]
     },
     "execution_count": 98,
     "metadata": {},
     "output_type": "execute_result"
    }
   ],
   "source": [
    "okc_bullied_df = okc_master_df[okc_master_df['q38555'].notnull()]\n",
    "okc_bullied_df.shape"
   ]
  },
  {
   "cell_type": "code",
   "execution_count": 3,
   "metadata": {
    "scrolled": false
   },
   "outputs": [
    {
     "data": {
      "text/plain": [
       "(-1.1050038013334962,\n",
       " 1.100238276253976,\n",
       " -1.1150998817569091,\n",
       " 1.1100890449549958)"
      ]
     },
     "execution_count": 3,
     "metadata": {},
     "output_type": "execute_result"
    },
    {
     "data": {
      "image/png": "[encoded data removed]",
      "text/plain": [
       "<matplotlib.figure.Figure at 0x10ff80eb8>"
      ]
     },
     "metadata": {},
     "output_type": "display_data"
    }
   ],
   "source": [
    "#sort_index conveniently sorts the pie graph so rarely and never are next to eachother.\n",
    "okc_df['q38555'].value_counts().sort_index().plot.pie()\n",
    "plt.title('q38555 - Frequency of being bullied')\n",
    "plt.axis('equal')"
   ]
  },
  {
   "cell_type": "markdown",
   "metadata": {},
   "source": [
    "Our distribution shows that the vast majority of the OKC user sample has been bullied at some point during the childhood. Additionally, the majority of the users were bullied occasionally (sometimes) and frequently (very often). \n",
    "\n",
    "It is worth noting that the line between rarely, sometimes, and very often may be subjective, as each individual may interpret their frequency of being bullied differently.\n",
    "\n",
    "Next, we will see if there is any correlation between childhood bullying and adult happiness.  \n",
    "q4018 - Are you happy with your life?"
   ]
  },
  {
   "cell_type": "code",
   "execution_count": 99,
   "metadata": {
    "scrolled": true
   },
   "outputs": [
    {
     "data": {
      "text/html": [
       "<div>\n",
       "<style>\n",
       "    .dataframe thead tr:only-child th {\n",
       "        text-align: right;\n",
       "    }\n",
       "\n",
       "    .dataframe thead th {\n",
       "        text-align: left;\n",
       "    }\n",
       "\n",
       "    .dataframe tbody tr th {\n",
       "        vertical-align: top;\n",
       "    }\n",
       "</style>\n",
       "<table border=\"1\" class=\"dataframe\">\n",
       "  <thead>\n",
       "    <tr style=\"text-align: right;\">\n",
       "      <th></th>\n",
       "      <th>q4018_No</th>\n",
       "      <th>q4018_Yes</th>\n",
       "    </tr>\n",
       "  </thead>\n",
       "  <tbody>\n",
       "    <tr>\n",
       "      <th>q38555_Never.</th>\n",
       "      <td>-0.053113</td>\n",
       "      <td>0.053113</td>\n",
       "    </tr>\n",
       "    <tr>\n",
       "      <th>q38555_Rarely.</th>\n",
       "      <td>-0.069727</td>\n",
       "      <td>0.069727</td>\n",
       "    </tr>\n",
       "    <tr>\n",
       "      <th>q38555_Sometimes.</th>\n",
       "      <td>0.002755</td>\n",
       "      <td>-0.002755</td>\n",
       "    </tr>\n",
       "    <tr>\n",
       "      <th>q38555_Very often.</th>\n",
       "      <td>0.113326</td>\n",
       "      <td>-0.113326</td>\n",
       "    </tr>\n",
       "  </tbody>\n",
       "</table>\n",
       "</div>"
      ],
      "text/plain": [
       "                    q4018_No  q4018_Yes\n",
       "q38555_Never.      -0.053113   0.053113\n",
       "q38555_Rarely.     -0.069727   0.069727\n",
       "q38555_Sometimes.   0.002755  -0.002755\n",
       "q38555_Very often.  0.113326  -0.113326"
      ]
     },
     "execution_count": 99,
     "metadata": {},
     "output_type": "execute_result"
    }
   ],
   "source": [
    "happy_corr = pd.get_dummies(okc_bullied_df[okc_bullied_df['q4018'].notnull()], columns=['q38555','q4018'])[['q38555_Never.','q38555_Rarely.','q38555_Sometimes.','q38555_Very often.','q4018_No','q4018_Yes']].corr()\n",
    "happy_corr[['q4018_No','q4018_Yes']].head(4)\n"
   ]
  },
  {
   "cell_type": "markdown",
   "metadata": {},
   "source": [
    "There seems to be a very weak negative correlation between frequency of childhood bullying and current happiness and in this data set.\n",
    "\n",
    "How about hard drugs?  \n",
    "q80 -\tWhat's your deal with harder drugs (stuff beyond pot)?"
   ]
  },
  {
   "cell_type": "code",
   "execution_count": 100,
   "metadata": {},
   "outputs": [
    {
     "data": {
      "text/html": [
       "<div>\n",
       "<style>\n",
       "    .dataframe thead tr:only-child th {\n",
       "        text-align: right;\n",
       "    }\n",
       "\n",
       "    .dataframe thead th {\n",
       "        text-align: left;\n",
       "    }\n",
       "\n",
       "    .dataframe tbody tr th {\n",
       "        vertical-align: top;\n",
       "    }\n",
       "</style>\n",
       "<table border=\"1\" class=\"dataframe\">\n",
       "  <thead>\n",
       "    <tr style=\"text-align: right;\">\n",
       "      <th></th>\n",
       "      <th>q80_I never do drugs.</th>\n",
       "      <th>q80_I've done drugs in the past, but no longer.</th>\n",
       "      <th>q80_I do drugs occasionally.</th>\n",
       "      <th>q80_I do drugs regularly.</th>\n",
       "    </tr>\n",
       "  </thead>\n",
       "  <tbody>\n",
       "    <tr>\n",
       "      <th>q38555_Never.</th>\n",
       "      <td>0.013255</td>\n",
       "      <td>-0.000637</td>\n",
       "      <td>-0.023741</td>\n",
       "      <td>0.005151</td>\n",
       "    </tr>\n",
       "    <tr>\n",
       "      <th>q38555_Rarely.</th>\n",
       "      <td>0.000806</td>\n",
       "      <td>0.015132</td>\n",
       "      <td>-0.022494</td>\n",
       "      <td>-0.015689</td>\n",
       "    </tr>\n",
       "    <tr>\n",
       "      <th>q38555_Sometimes.</th>\n",
       "      <td>-0.019612</td>\n",
       "      <td>0.012800</td>\n",
       "      <td>0.015099</td>\n",
       "      <td>-0.004029</td>\n",
       "    </tr>\n",
       "    <tr>\n",
       "      <th>q38555_Very often.</th>\n",
       "      <td>0.011641</td>\n",
       "      <td>-0.030486</td>\n",
       "      <td>0.024700</td>\n",
       "      <td>0.017975</td>\n",
       "    </tr>\n",
       "  </tbody>\n",
       "</table>\n",
       "</div>"
      ],
      "text/plain": [
       "                    q80_I never do drugs.  \\\n",
       "q38555_Never.                    0.013255   \n",
       "q38555_Rarely.                   0.000806   \n",
       "q38555_Sometimes.               -0.019612   \n",
       "q38555_Very often.               0.011641   \n",
       "\n",
       "                    q80_I've done drugs in the past, but no longer.  \\\n",
       "q38555_Never.                                             -0.000637   \n",
       "q38555_Rarely.                                             0.015132   \n",
       "q38555_Sometimes.                                          0.012800   \n",
       "q38555_Very often.                                        -0.030486   \n",
       "\n",
       "                    q80_I do drugs occasionally.  q80_I do drugs regularly.  \n",
       "q38555_Never.                          -0.023741                   0.005151  \n",
       "q38555_Rarely.                         -0.022494                  -0.015689  \n",
       "q38555_Sometimes.                       0.015099                  -0.004029  \n",
       "q38555_Very often.                      0.024700                   0.017975  "
      ]
     },
     "execution_count": 100,
     "metadata": {},
     "output_type": "execute_result"
    }
   ],
   "source": [
    "drug_corr = pd.get_dummies(okc_bullied_df[okc_bullied_df['q80'].notnull()], columns=['q38555','q80'])[['q38555_Never.','q38555_Rarely.','q38555_Sometimes.','q38555_Very often.','q80_I never do drugs.',\"q80_I've done drugs in the past, but no longer.\",'q80_I do drugs occasionally.','q80_I do drugs regularly.']].corr()\n",
    "drug_corr[['q80_I never do drugs.',\"q80_I've done drugs in the past, but no longer.\",'q80_I do drugs occasionally.','q80_I do drugs regularly.']].head(4)\n"
   ]
  },
  {
   "cell_type": "code",
   "execution_count": 101,
   "metadata": {
    "scrolled": false
   },
   "outputs": [
    {
     "data": {
      "text/plain": [
       "I never do drugs.                              0.706732\n",
       "I've done drugs in the past, but no longer.    0.219908\n",
       "I do drugs occasionally.                       0.070129\n",
       "I do drugs regularly.                          0.003230\n",
       "Name: q80, dtype: float64"
      ]
     },
     "execution_count": 101,
     "metadata": {},
     "output_type": "execute_result"
    }
   ],
   "source": [
    "okc_bullied_df['q80'].value_counts(normalize=True)"
   ]
  },
  {
   "cell_type": "markdown",
   "metadata": {},
   "source": [
    "Based off of the above, there does not seem to be a significant correlation between childhood bullying and hard drug use. \n",
    "\n",
    "Interestingly, about 70% of the OKC user base claimed to have never done drugs. 7% of the users do drugs occasionally and .3% do drugs regularly. This is in line with the Substance Abuse and Mental Health Services Administration's claim that \"9.4 percent of the population—had used an illicit drug in the past month.\"(https://www.drugabuse.gov/publications/drugfacts/nationwide-trends)\n",
    "\n",
    "It is possilbe that the usage rate is lower on OKC (7.3% vs 9.4%) because people do not want to admit on a public site that they do illegal hard drugs.\n",
    "\n",
    "Next, we will see if childhood bullying has any impact on cognitive abilities. This will be a number computed by grading a user's repsonse to a number of questions with an absolute right or wrong answer. These questions used in this index will be attached in the appendix. The cognitive ability index is inspired by Kirkegaard's analysis on the same data set (https://openpsych.net/files/papers/Kirkegaard_2016g.pdf)\n",
    "\n"
   ]
  },
  {
   "cell_type": "code",
   "execution_count": 7,
   "metadata": {},
   "outputs": [
    {
     "data": {
      "text/plain": [
       "(14, 8)"
      ]
     },
     "execution_count": 7,
     "metadata": {},
     "output_type": "execute_result"
    }
   ],
   "source": [
    "cog_df = pd.read_csv('cog_text.txt', sep='\\t', low_memory=False)\n",
    "cog_df.shape"
   ]
  },
  {
   "cell_type": "code",
   "execution_count": 82,
   "metadata": {
    "collapsed": true
   },
   "outputs": [],
   "source": [
    "def getCogIndx(row):\n",
    "    \n",
    "    cog_index = None\n",
    "    answered_questions = 0\n",
    "    total_score = 0 #perhaps introduce question and answer weights\n",
    "    \n",
    "    for index, question in cog_df.iterrows():\n",
    "        column = question['Column']\n",
    "        correct_answer = question[\"option_\"+str(question['option_correct'])]\n",
    "        \n",
    "        user_answer = row[column]\n",
    "        \n",
    "        if(user_answer is np.nan):\n",
    "            pass #user did not answer question\n",
    "        else:\n",
    "            answered_questions += 1\n",
    "            if(user_answer == correct_answer):\n",
    "                total_score +=1\n",
    "            #else:\n",
    "                #total_score +=-.25 #punish wrong answers, like SATs\n",
    "                \n",
    "    if(answered_questions > 0):\n",
    "        cog_index = total_score / answered_questions\n",
    "    #else:\n",
    "     #   print('no questions answered')\n",
    "\n",
    "    return cog_index \n",
    "\n"
   ]
  },
  {
   "cell_type": "code",
   "execution_count": 103,
   "metadata": {
    "collapsed": true
   },
   "outputs": [],
   "source": [
    "okc_cog_df = okc_master_df.copy()"
   ]
  },
  {
   "cell_type": "code",
   "execution_count": 104,
   "metadata": {
    "collapsed": true
   },
   "outputs": [],
   "source": [
    "okc_cog_df['cog_indx'] = okc_df.apply(getCogIndx, axis=1)"
   ]
  },
  {
   "cell_type": "code",
   "execution_count": 105,
   "metadata": {
    "scrolled": false
   },
   "outputs": [
    {
     "data": {
      "text/plain": [
       "count    68371.000000\n",
       "mean         0.400669\n",
       "std          0.263777\n",
       "min          0.000000\n",
       "25%          0.200000\n",
       "50%          0.444444\n",
       "75%          0.600000\n",
       "max          0.857143\n",
       "Name: cog_indx, dtype: float64"
      ]
     },
     "execution_count": 105,
     "metadata": {},
     "output_type": "execute_result"
    }
   ],
   "source": [
    "okc_cog_df['cog_indx'].describe()"
   ]
  },
  {
   "cell_type": "markdown",
   "metadata": {},
   "source": [
    "There are definitely issues with this method of cognitive measurement. This method assumes that all questions equally determine one's cognitive ability. Additionally, users would possibly be able to copy and paste the question into a search engine and easily get the answer. Surprisingly, nobody in this data set had a perfect score (1), even with that possibility. \n",
    "\n",
    "We'll normalize the cog index between 0 and 1 to keep it in line with the other values we are testing against."
   ]
  },
  {
   "cell_type": "code",
   "execution_count": 107,
   "metadata": {},
   "outputs": [],
   "source": [
    "#normalize the cog indx between 0 and 1\n",
    "min_max_scaler = preprocessing.MinMaxScaler()\n",
    "np_scaled = min_max_scaler.fit_transform(okc_cog_df['cog_indx'].values.reshape(-1,1) )\n",
    "df_normalized = pd.DataFrame(np_scaled)\n",
    "okc_cog_df['cog_indx_norm'] = df_normalized"
   ]
  },
  {
   "cell_type": "code",
   "execution_count": 110,
   "metadata": {
    "scrolled": true
   },
   "outputs": [
    {
     "data": {
      "text/plain": [
       "q41_Not at all important    0.184544\n",
       "q41_Not very important     -0.030840\n",
       "q41_Somewhat important     -0.109350\n",
       "q41_Extremely important    -0.119136\n",
       "Name: cog_indx_norm, dtype: float64"
      ]
     },
     "execution_count": 110,
     "metadata": {},
     "output_type": "execute_result"
    }
   ],
   "source": [
    "religion_cog_corr = pd.get_dummies(okc_cog_df[okc_cog_df['q41'].notnull()], columns=['q41'])[['q41_Not at all important','q41_Not very important','q41_Somewhat important','q41_Extremely important','cog_indx_norm']].corr()\n",
    "religion_cog_corr['cog_indx_norm'].head(4)"
   ]
  },
  {
   "attachments": {},
   "cell_type": "markdown",
   "metadata": {},
   "source": [
    "We can see a weak correlation of .185 between non religious individuals and their cog index.\n",
    "\n",
    "How about political views?  \n",
    "- q166 - Politically, which way do you lean?"
   ]
  },
  {
   "cell_type": "code",
   "execution_count": 111,
   "metadata": {},
   "outputs": [
    {
     "data": {
      "text/plain": [
       "To the left (democrat in the US)       0.600478\n",
       "To the middle / I don't know           0.297593\n",
       "To the right (republican in the US)    0.101929\n",
       "Name: q166, dtype: float64"
      ]
     },
     "execution_count": 111,
     "metadata": {},
     "output_type": "execute_result"
    }
   ],
   "source": [
    "okc_cog_df['q166'].value_counts(normalize=True)"
   ]
  },
  {
   "cell_type": "code",
   "execution_count": 112,
   "metadata": {},
   "outputs": [
    {
     "data": {
      "text/plain": [
       "(-1.1130087588207025,\n",
       " 1.1006194647057477,\n",
       " -1.1013581092619755,\n",
       " 1.113048689756877)"
      ]
     },
     "execution_count": 112,
     "metadata": {},
     "output_type": "execute_result"
    },
    {
     "data": {
      "image/png": "[encoded data removed]",
      "text/plain": [
       "<matplotlib.figure.Figure at 0x117674518>"
      ]
     },
     "metadata": {},
     "output_type": "display_data"
    }
   ],
   "source": [
    "okc_cog_df['q166'].value_counts(normalize=True).plot.pie()\n",
    "plt.title('q166 - Political views')\n",
    "plt.axis('equal')"
   ]
  },
  {
   "cell_type": "code",
   "execution_count": 113,
   "metadata": {
    "scrolled": true
   },
   "outputs": [
    {
     "data": {
      "text/plain": [
       "q166_To the left (democrat in the US)       0.178054\n",
       "q166_To the middle / I don't know          -0.118222\n",
       "q166_To the right (republican in the US)   -0.109601\n",
       "Name: cog_indx_norm, dtype: float64"
      ]
     },
     "execution_count": 113,
     "metadata": {},
     "output_type": "execute_result"
    }
   ],
   "source": [
    "political_cog_corr = pd.get_dummies(okc_cog_df[okc_cog_df['q166'].notnull()], columns=['q166'])[['q166_To the left (democrat in the US)',\"q166_To the middle / I don't know\",'q166_To the right (republican in the US)','cog_indx_norm']].corr()\n",
    "political_cog_corr['cog_indx_norm'].head(3)"
   ]
  },
  {
   "cell_type": "markdown",
   "metadata": {},
   "source": [
    "From the pie graph, we can see that the majority of the users are left leaning, with a minority (10%) leaning to the right. There is also a weak positive correlation (.178) between cog index and people who lean to the left. Conversely, there is a weak negative correlation between those in the middle (-.118) and right (-.110)."
   ]
  },
  {
   "cell_type": "markdown",
   "metadata": {},
   "source": [
    "<hr/>"
   ]
  },
  {
   "cell_type": "markdown",
   "metadata": {},
   "source": [
    "### K means clustering"
   ]
  },
  {
   "cell_type": "code",
   "execution_count": 308,
   "metadata": {},
   "outputs": [
    {
     "data": {
      "text/plain": [
       "(4481, 2627)"
      ]
     },
     "execution_count": 308,
     "metadata": {},
     "output_type": "execute_result"
    }
   ],
   "source": [
    "okc_drugs_df = okc_cog_df[okc_cog_df['p_drug'].notnull()].copy()\n",
    "okc_drugs_df.shape"
   ]
  },
  {
   "cell_type": "code",
   "execution_count": 309,
   "metadata": {},
   "outputs": [],
   "source": [
    "#normalize the p_drug between 0 and 1 (down from 0 to 100)\n",
    "min_max_scaler = preprocessing.MinMaxScaler()\n",
    "np_scaled = min_max_scaler.fit_transform(okc_drugs_df['p_drug'].values.reshape(-1,1) )\n",
    "okc_drugs_df['p_drug_norm'] = np_scaled"
   ]
  },
  {
   "cell_type": "code",
   "execution_count": 250,
   "metadata": {},
   "outputs": [],
   "source": [
    "def getHardDrugIndx(row):\n",
    "    \n",
    "    if(row['q80'] == 'I do drugs occasionally.'):\n",
    "        return .75\n",
    "    elif(row['q80'] == \"I've done drugs in the past, but no longer.\"):\n",
    "        return .5\n",
    "    elif(row['q80'] == \"I do drugs regularly.\"):\n",
    "        return 1\n",
    "    elif(row['q80'] == \"I never do drugs.\"):\n",
    "        return 0\n",
    "    else:\n",
    "        return None\n",
    "    \n",
    "def getDrugDatePrefIndx(row):\n",
    "    \n",
    "    if(row['q9688'] == 'Yes'):\n",
    "        return 1\n",
    "    elif(row['q9688'] == \"Yes, but only soft stuff like marijuana\"):\n",
    "        return .75\n",
    "    elif(row['q9688'] == \"No\"):\n",
    "        return 0\n",
    "    else:\n",
    "        return None\n",
    "    \n",
    "def getAlcoholIndx(row):\n",
    "    if(row['q77'] == 'Very often'):\n",
    "        return 1\n",
    "    elif(row['q77'] == \"Sometimes\"):\n",
    "        return .66\n",
    "    elif(row['q77'] == \"Rarely\"):\n",
    "        return .33\n",
    "    elif(row['q77'] == \"Never\"):\n",
    "        return 0\n",
    "    else:\n",
    "        return None"
   ]
  },
  {
   "cell_type": "code",
   "execution_count": 310,
   "metadata": {
    "collapsed": true
   },
   "outputs": [],
   "source": [
    "okc_drugs_df['hard_drug_indx'] = okc_drugs_df.apply(getHardDrugIndx, axis=1)\n",
    "okc_drugs_df['drug_date_pref_indx'] = okc_drugs_df.apply(getDrugDatePrefIndx, axis=1)\n",
    "okc_drugs_df['alcohol_indx'] = okc_drugs_df.apply(getAlcoholIndx, axis=1)"
   ]
  },
  {
   "cell_type": "code",
   "execution_count": 311,
   "metadata": {},
   "outputs": [
    {
     "data": {
      "text/plain": [
       "(3969, 2631)"
      ]
     },
     "execution_count": 311,
     "metadata": {},
     "output_type": "execute_result"
    }
   ],
   "source": [
    "okc_drugs_df_cleaned = okc_drugs_df.dropna(subset=[['hard_drug_indx','drug_date_pref_indx','alcohol_indx']]).copy()\n",
    "okc_drugs_df_cleaned.shape"
   ]
  },
  {
   "cell_type": "code",
   "execution_count": 313,
   "metadata": {},
   "outputs": [
    {
     "data": {
      "text/plain": [
       "KMeans(algorithm='auto', copy_x=True, init='k-means++', max_iter=300,\n",
       "    n_clusters=3, n_init=10, n_jobs=1, precompute_distances='auto',\n",
       "    random_state=None, tol=0.0001, verbose=0)"
      ]
     },
     "execution_count": 313,
     "metadata": {},
     "output_type": "execute_result"
    }
   ],
   "source": [
    "from sklearn.cluster import KMeans\n",
    "kmeans = KMeans(n_clusters=3)\n",
    "kmeans.fit(okc_drugs_df_cleaned[['hard_drug_indx','drug_date_pref_indx','alcohol_indx']])"
   ]
  },
  {
   "cell_type": "code",
   "execution_count": 316,
   "metadata": {},
   "outputs": [
    {
     "data": {
      "text/html": [
       "<div>\n",
       "<style>\n",
       "    .dataframe thead tr:only-child th {\n",
       "        text-align: right;\n",
       "    }\n",
       "\n",
       "    .dataframe thead th {\n",
       "        text-align: left;\n",
       "    }\n",
       "\n",
       "    .dataframe tbody tr th {\n",
       "        vertical-align: top;\n",
       "    }\n",
       "</style>\n",
       "<table border=\"1\" class=\"dataframe\">\n",
       "  <thead>\n",
       "    <tr style=\"text-align: right;\">\n",
       "      <th></th>\n",
       "      <th>q2</th>\n",
       "      <th>q11</th>\n",
       "      <th>q12</th>\n",
       "      <th>q13</th>\n",
       "      <th>q14</th>\n",
       "      <th>q16</th>\n",
       "      <th>q17</th>\n",
       "      <th>q18</th>\n",
       "      <th>q20</th>\n",
       "      <th>q22</th>\n",
       "      <th>...</th>\n",
       "      <th>gender2</th>\n",
       "      <th>gender2_num</th>\n",
       "      <th>CA_items</th>\n",
       "      <th>cog_indx</th>\n",
       "      <th>cog_indx_norm</th>\n",
       "      <th>p_drug_norm</th>\n",
       "      <th>hard_drug_indx</th>\n",
       "      <th>drug_date_pref_indx</th>\n",
       "      <th>alcohol_indx</th>\n",
       "      <th>cluster</th>\n",
       "    </tr>\n",
       "  </thead>\n",
       "  <tbody>\n",
       "    <tr>\n",
       "      <th>25</th>\n",
       "      <td>more cool than pathetic</td>\n",
       "      <td>Aroused</td>\n",
       "      <td>NaN</td>\n",
       "      <td>No</td>\n",
       "      <td>No</td>\n",
       "      <td>NaN</td>\n",
       "      <td>Yes</td>\n",
       "      <td>No</td>\n",
       "      <td>NaN</td>\n",
       "      <td>NaN</td>\n",
       "      <td>...</td>\n",
       "      <td>Man</td>\n",
       "      <td>1.0</td>\n",
       "      <td>5.0</td>\n",
       "      <td>0.666667</td>\n",
       "      <td>0.777778</td>\n",
       "      <td>0.773196</td>\n",
       "      <td>0.50</td>\n",
       "      <td>0.75</td>\n",
       "      <td>0.66</td>\n",
       "      <td>1</td>\n",
       "    </tr>\n",
       "    <tr>\n",
       "      <th>35</th>\n",
       "      <td>NaN</td>\n",
       "      <td>Indifferent</td>\n",
       "      <td>NaN</td>\n",
       "      <td>No</td>\n",
       "      <td>No</td>\n",
       "      <td>NaN</td>\n",
       "      <td>No</td>\n",
       "      <td>No</td>\n",
       "      <td>NaN</td>\n",
       "      <td>NaN</td>\n",
       "      <td>...</td>\n",
       "      <td>Woman</td>\n",
       "      <td>0.0</td>\n",
       "      <td>6.0</td>\n",
       "      <td>0.714286</td>\n",
       "      <td>0.833333</td>\n",
       "      <td>0.773196</td>\n",
       "      <td>0.75</td>\n",
       "      <td>1.00</td>\n",
       "      <td>1.00</td>\n",
       "      <td>0</td>\n",
       "    </tr>\n",
       "  </tbody>\n",
       "</table>\n",
       "<p>2 rows × 2632 columns</p>\n",
       "</div>"
      ],
      "text/plain": [
       "                         q2          q11  q12 q13 q14  q16  q17 q18  q20  q22  \\\n",
       "25  more cool than pathetic      Aroused  NaN  No  No  NaN  Yes  No  NaN  NaN   \n",
       "35                      NaN  Indifferent  NaN  No  No  NaN   No  No  NaN  NaN   \n",
       "\n",
       "     ...   gender2 gender2_num CA_items  cog_indx cog_indx_norm p_drug_norm  \\\n",
       "25   ...       Man         1.0      5.0  0.666667      0.777778    0.773196   \n",
       "35   ...     Woman         0.0      6.0  0.714286      0.833333    0.773196   \n",
       "\n",
       "   hard_drug_indx drug_date_pref_indx alcohol_indx cluster  \n",
       "25           0.50                0.75         0.66       1  \n",
       "35           0.75                1.00         1.00       0  \n",
       "\n",
       "[2 rows x 2632 columns]"
      ]
     },
     "execution_count": 316,
     "metadata": {},
     "output_type": "execute_result"
    }
   ],
   "source": [
    "okc_drugs_df_cleaned['cluster'] = kmeans.labels_\n",
    "okc_drugs_df_cleaned.head(2)"
   ]
  },
  {
   "cell_type": "code",
   "execution_count": 318,
   "metadata": {
    "scrolled": true
   },
   "outputs": [
    {
     "data": {
      "text/html": [
       "<div>\n",
       "<style>\n",
       "    .dataframe thead tr:only-child th {\n",
       "        text-align: right;\n",
       "    }\n",
       "\n",
       "    .dataframe thead th {\n",
       "        text-align: left;\n",
       "    }\n",
       "\n",
       "    .dataframe tbody tr th {\n",
       "        vertical-align: top;\n",
       "    }\n",
       "</style>\n",
       "<table border=\"1\" class=\"dataframe\">\n",
       "  <thead>\n",
       "    <tr style=\"text-align: right;\">\n",
       "      <th></th>\n",
       "      <th>q255</th>\n",
       "      <th>q271</th>\n",
       "      <th>q18154</th>\n",
       "      <th>p_conf</th>\n",
       "      <th>p_laidback</th>\n",
       "      <th>p_drug</th>\n",
       "      <th>p_lit</th>\n",
       "      <th>p_progress</th>\n",
       "      <th>p_roman</th>\n",
       "      <th>p_dominant</th>\n",
       "      <th>...</th>\n",
       "      <th>p_adven</th>\n",
       "      <th>CA</th>\n",
       "      <th>gender2_num</th>\n",
       "      <th>CA_items</th>\n",
       "      <th>cog_indx</th>\n",
       "      <th>cog_indx_norm</th>\n",
       "      <th>p_drug_norm</th>\n",
       "      <th>hard_drug_indx</th>\n",
       "      <th>drug_date_pref_indx</th>\n",
       "      <th>alcohol_indx</th>\n",
       "    </tr>\n",
       "    <tr>\n",
       "      <th>cluster</th>\n",
       "      <th></th>\n",
       "      <th></th>\n",
       "      <th></th>\n",
       "      <th></th>\n",
       "      <th></th>\n",
       "      <th></th>\n",
       "      <th></th>\n",
       "      <th></th>\n",
       "      <th></th>\n",
       "      <th></th>\n",
       "      <th></th>\n",
       "      <th></th>\n",
       "      <th></th>\n",
       "      <th></th>\n",
       "      <th></th>\n",
       "      <th></th>\n",
       "      <th></th>\n",
       "      <th></th>\n",
       "      <th></th>\n",
       "      <th></th>\n",
       "      <th></th>\n",
       "    </tr>\n",
       "  </thead>\n",
       "  <tbody>\n",
       "    <tr>\n",
       "      <th>0</th>\n",
       "      <td>90197.102906</td>\n",
       "      <td>3.142248</td>\n",
       "      <td>30.009709</td>\n",
       "      <td>39.429467</td>\n",
       "      <td>25.893617</td>\n",
       "      <td>58.528713</td>\n",
       "      <td>8.308696</td>\n",
       "      <td>14.875000</td>\n",
       "      <td>-35.583501</td>\n",
       "      <td>43.719807</td>\n",
       "      <td>...</td>\n",
       "      <td>43.509434</td>\n",
       "      <td>0.085627</td>\n",
       "      <td>0.548549</td>\n",
       "      <td>4.810891</td>\n",
       "      <td>0.505711</td>\n",
       "      <td>0.589997</td>\n",
       "      <td>0.582770</td>\n",
       "      <td>0.701733</td>\n",
       "      <td>0.920050</td>\n",
       "      <td>1.000000</td>\n",
       "    </tr>\n",
       "    <tr>\n",
       "      <th>1</th>\n",
       "      <td>90217.232977</td>\n",
       "      <td>3.141922</td>\n",
       "      <td>35.719328</td>\n",
       "      <td>37.786561</td>\n",
       "      <td>23.134921</td>\n",
       "      <td>57.796030</td>\n",
       "      <td>8.429915</td>\n",
       "      <td>15.159574</td>\n",
       "      <td>-26.508676</td>\n",
       "      <td>39.274428</td>\n",
       "      <td>...</td>\n",
       "      <td>37.643733</td>\n",
       "      <td>0.162028</td>\n",
       "      <td>0.617003</td>\n",
       "      <td>5.440034</td>\n",
       "      <td>0.535789</td>\n",
       "      <td>0.625087</td>\n",
       "      <td>0.575217</td>\n",
       "      <td>0.661001</td>\n",
       "      <td>0.888514</td>\n",
       "      <td>0.579451</td>\n",
       "    </tr>\n",
       "    <tr>\n",
       "      <th>2</th>\n",
       "      <td>90239.322394</td>\n",
       "      <td>3.142012</td>\n",
       "      <td>34.691489</td>\n",
       "      <td>32.910256</td>\n",
       "      <td>22.302326</td>\n",
       "      <td>28.429780</td>\n",
       "      <td>2.469256</td>\n",
       "      <td>10.250000</td>\n",
       "      <td>-18.182432</td>\n",
       "      <td>38.766355</td>\n",
       "      <td>...</td>\n",
       "      <td>7.090301</td>\n",
       "      <td>0.135803</td>\n",
       "      <td>0.646048</td>\n",
       "      <td>5.629442</td>\n",
       "      <td>0.531408</td>\n",
       "      <td>0.619976</td>\n",
       "      <td>0.272472</td>\n",
       "      <td>0.000000</td>\n",
       "      <td>0.786802</td>\n",
       "      <td>0.610795</td>\n",
       "    </tr>\n",
       "  </tbody>\n",
       "</table>\n",
       "<p>3 rows × 65 columns</p>\n",
       "</div>"
      ],
      "text/plain": [
       "                 q255      q271     q18154     p_conf  p_laidback     p_drug  \\\n",
       "cluster                                                                        \n",
       "0        90197.102906  3.142248  30.009709  39.429467   25.893617  58.528713   \n",
       "1        90217.232977  3.141922  35.719328  37.786561   23.134921  57.796030   \n",
       "2        90239.322394  3.142012  34.691489  32.910256   22.302326  28.429780   \n",
       "\n",
       "            p_lit  p_progress    p_roman  p_dominant      ...         p_adven  \\\n",
       "cluster                                                   ...                   \n",
       "0        8.308696   14.875000 -35.583501   43.719807      ...       43.509434   \n",
       "1        8.429915   15.159574 -26.508676   39.274428      ...       37.643733   \n",
       "2        2.469256   10.250000 -18.182432   38.766355      ...        7.090301   \n",
       "\n",
       "               CA  gender2_num  CA_items  cog_indx  cog_indx_norm  \\\n",
       "cluster                                                             \n",
       "0        0.085627     0.548549  4.810891  0.505711       0.589997   \n",
       "1        0.162028     0.617003  5.440034  0.535789       0.625087   \n",
       "2        0.135803     0.646048  5.629442  0.531408       0.619976   \n",
       "\n",
       "         p_drug_norm  hard_drug_indx  drug_date_pref_indx  alcohol_indx  \n",
       "cluster                                                                  \n",
       "0           0.582770        0.701733             0.920050      1.000000  \n",
       "1           0.575217        0.661001             0.888514      0.579451  \n",
       "2           0.272472        0.000000             0.786802      0.610795  \n",
       "\n",
       "[3 rows x 65 columns]"
      ]
     },
     "execution_count": 318,
     "metadata": {},
     "output_type": "execute_result"
    }
   ],
   "source": [
    "okc_drugs_df_cleaned.groupby(['cluster']).mean()"
   ]
  },
  {
   "cell_type": "code",
   "execution_count": 321,
   "metadata": {},
   "outputs": [
    {
     "data": {
      "text/html": [
       "<div>\n",
       "<style>\n",
       "    .dataframe thead tr:only-child th {\n",
       "        text-align: right;\n",
       "    }\n",
       "\n",
       "    .dataframe thead th {\n",
       "        text-align: left;\n",
       "    }\n",
       "\n",
       "    .dataframe tbody tr th {\n",
       "        vertical-align: top;\n",
       "    }\n",
       "</style>\n",
       "<table border=\"1\" class=\"dataframe\">\n",
       "  <thead>\n",
       "    <tr style=\"text-align: right;\">\n",
       "      <th></th>\n",
       "      <th>p_drug_norm</th>\n",
       "      <th>cog_indx_norm</th>\n",
       "      <th>p_conf</th>\n",
       "      <th>p_adven</th>\n",
       "      <th>p_progress</th>\n",
       "      <th>p_geeky</th>\n",
       "    </tr>\n",
       "    <tr>\n",
       "      <th>cluster</th>\n",
       "      <th></th>\n",
       "      <th></th>\n",
       "      <th></th>\n",
       "      <th></th>\n",
       "      <th></th>\n",
       "      <th></th>\n",
       "    </tr>\n",
       "  </thead>\n",
       "  <tbody>\n",
       "    <tr>\n",
       "      <th>0</th>\n",
       "      <td>0.582770</td>\n",
       "      <td>0.589997</td>\n",
       "      <td>39.429467</td>\n",
       "      <td>43.509434</td>\n",
       "      <td>14.875000</td>\n",
       "      <td>-3.564593</td>\n",
       "    </tr>\n",
       "    <tr>\n",
       "      <th>1</th>\n",
       "      <td>0.575217</td>\n",
       "      <td>0.625087</td>\n",
       "      <td>37.786561</td>\n",
       "      <td>37.643733</td>\n",
       "      <td>15.159574</td>\n",
       "      <td>12.400361</td>\n",
       "    </tr>\n",
       "    <tr>\n",
       "      <th>2</th>\n",
       "      <td>0.272472</td>\n",
       "      <td>0.619976</td>\n",
       "      <td>32.910256</td>\n",
       "      <td>7.090301</td>\n",
       "      <td>10.250000</td>\n",
       "      <td>17.422222</td>\n",
       "    </tr>\n",
       "  </tbody>\n",
       "</table>\n",
       "</div>"
      ],
      "text/plain": [
       "         p_drug_norm  cog_indx_norm     p_conf    p_adven  p_progress  \\\n",
       "cluster                                                                 \n",
       "0           0.582770       0.589997  39.429467  43.509434   14.875000   \n",
       "1           0.575217       0.625087  37.786561  37.643733   15.159574   \n",
       "2           0.272472       0.619976  32.910256   7.090301   10.250000   \n",
       "\n",
       "           p_geeky  \n",
       "cluster             \n",
       "0        -3.564593  \n",
       "1        12.400361  \n",
       "2        17.422222  "
      ]
     },
     "execution_count": 321,
     "metadata": {},
     "output_type": "execute_result"
    }
   ],
   "source": [
    "okc_drugs_df_cleaned.groupby(['cluster']).mean()[['p_drug_norm','cog_indx_norm','p_conf','p_adven','p_progress','p_geeky']]"
   ]
  },
  {
   "cell_type": "markdown",
   "metadata": {},
   "source": [
    "- Cluster 0 is the most drug friendly group as well as the most confident, most adventurous, least intelligent (cog index), and least geeky.\n",
    "- Cluster 2 is the least drug friendly group as well as the least confident, least adventurous, least progressive, and most geeky.\n",
    "- Cluster 1 falls in between cluster 0 and 2 in most of these categories\n",
    "\n"
   ]
  },
  {
   "cell_type": "markdown",
   "metadata": {},
   "source": [
    "### Appendix"
   ]
  },
  {
   "cell_type": "code",
   "execution_count": 20,
   "metadata": {},
   "outputs": [
    {
     "data": {
      "text/html": [
       "<div>\n",
       "<style>\n",
       "    .dataframe thead tr:only-child th {\n",
       "        text-align: right;\n",
       "    }\n",
       "\n",
       "    .dataframe thead th {\n",
       "        text-align: left;\n",
       "    }\n",
       "\n",
       "    .dataframe tbody tr th {\n",
       "        vertical-align: top;\n",
       "    }\n",
       "</style>\n",
       "<table border=\"1\" class=\"dataframe\">\n",
       "  <thead>\n",
       "    <tr style=\"text-align: right;\">\n",
       "      <th></th>\n",
       "      <th>Column</th>\n",
       "      <th>ID</th>\n",
       "      <th>text</th>\n",
       "      <th>option_1</th>\n",
       "      <th>option_2</th>\n",
       "      <th>option_3</th>\n",
       "      <th>option_4</th>\n",
       "      <th>option_correct</th>\n",
       "    </tr>\n",
       "  </thead>\n",
       "  <tbody>\n",
       "    <tr>\n",
       "      <th>0</th>\n",
       "      <td>q178</td>\n",
       "      <td>178</td>\n",
       "      <td>Which is bigger?</td>\n",
       "      <td>The earth</td>\n",
       "      <td>The sun</td>\n",
       "      <td>NaN</td>\n",
       "      <td>NaN</td>\n",
       "      <td>2</td>\n",
       "    </tr>\n",
       "    <tr>\n",
       "      <th>1</th>\n",
       "      <td>q255</td>\n",
       "      <td>255</td>\n",
       "      <td>STALE is to STEAL as 89475 is to...</td>\n",
       "      <td>89457</td>\n",
       "      <td>98547</td>\n",
       "      <td>89754</td>\n",
       "      <td>89547</td>\n",
       "      <td>4</td>\n",
       "    </tr>\n",
       "    <tr>\n",
       "      <th>2</th>\n",
       "      <td>q1201</td>\n",
       "      <td>1201</td>\n",
       "      <td>What is next in this series? 1, 4, 10, 19, 31, _</td>\n",
       "      <td>36</td>\n",
       "      <td>48</td>\n",
       "      <td>46</td>\n",
       "      <td>Don't know / don't care</td>\n",
       "      <td>3</td>\n",
       "    </tr>\n",
       "    <tr>\n",
       "      <th>3</th>\n",
       "      <td>q14835</td>\n",
       "      <td>14835</td>\n",
       "      <td>If you turn a left-handed glove inside out, it...</td>\n",
       "      <td>On my left hand</td>\n",
       "      <td>On my right hand</td>\n",
       "      <td>NaN</td>\n",
       "      <td>NaN</td>\n",
       "      <td>2</td>\n",
       "    </tr>\n",
       "    <tr>\n",
       "      <th>4</th>\n",
       "      <td>q8672</td>\n",
       "      <td>8672</td>\n",
       "      <td>In the line 'Wherefore art thou Romeo?' what d...</td>\n",
       "      <td>Why</td>\n",
       "      <td>Where</td>\n",
       "      <td>How</td>\n",
       "      <td>Who cares / wtf?</td>\n",
       "      <td>1</td>\n",
       "    </tr>\n",
       "    <tr>\n",
       "      <th>5</th>\n",
       "      <td>q18154</td>\n",
       "      <td>18154</td>\n",
       "      <td>How many fortnights are in a year?</td>\n",
       "      <td>52</td>\n",
       "      <td>14</td>\n",
       "      <td>26</td>\n",
       "      <td>365</td>\n",
       "      <td>3</td>\n",
       "    </tr>\n",
       "    <tr>\n",
       "      <th>6</th>\n",
       "      <td>q12625</td>\n",
       "      <td>12625</td>\n",
       "      <td>Half of all policemen are thieves and half of ...</td>\n",
       "      <td>Yes</td>\n",
       "      <td>No</td>\n",
       "      <td>NaN</td>\n",
       "      <td>NaN</td>\n",
       "      <td>2</td>\n",
       "    </tr>\n",
       "    <tr>\n",
       "      <th>7</th>\n",
       "      <td>q477</td>\n",
       "      <td>477</td>\n",
       "      <td>Which is longer?</td>\n",
       "      <td>A mile</td>\n",
       "      <td>A kilometer</td>\n",
       "      <td>I don't know!</td>\n",
       "      <td>NaN</td>\n",
       "      <td>1</td>\n",
       "    </tr>\n",
       "    <tr>\n",
       "      <th>8</th>\n",
       "      <td>q256</td>\n",
       "      <td>256</td>\n",
       "      <td>When birds stand on power lines and don't get ...</td>\n",
       "      <td>Good timing, they only land between calls</td>\n",
       "      <td>Body materials that are insulated from current</td>\n",
       "      <td>Not touching anything else at the same time</td>\n",
       "      <td>They do get hurt, they just express it poorly</td>\n",
       "      <td>3</td>\n",
       "    </tr>\n",
       "    <tr>\n",
       "      <th>9</th>\n",
       "      <td>q43639</td>\n",
       "      <td>43639</td>\n",
       "      <td>Etymology is...</td>\n",
       "      <td>The study of culinary arts.</td>\n",
       "      <td>The study of insects.</td>\n",
       "      <td>The study of the origins of words.</td>\n",
       "      <td>I don't know.</td>\n",
       "      <td>3</td>\n",
       "    </tr>\n",
       "    <tr>\n",
       "      <th>10</th>\n",
       "      <td>q267</td>\n",
       "      <td>267</td>\n",
       "      <td>If some men are doctors and some doctors are t...</td>\n",
       "      <td>Yes</td>\n",
       "      <td>No</td>\n",
       "      <td>NaN</td>\n",
       "      <td>NaN</td>\n",
       "      <td>2</td>\n",
       "    </tr>\n",
       "    <tr>\n",
       "      <th>11</th>\n",
       "      <td>q18698</td>\n",
       "      <td>18698</td>\n",
       "      <td>A little grade 10 science. Ideal Gas Law?</td>\n",
       "      <td>PV = nRT</td>\n",
       "      <td>G + V = 1/T</td>\n",
       "      <td>y=mx+b</td>\n",
       "      <td>Not sure / wish I could skip this one</td>\n",
       "      <td>1</td>\n",
       "    </tr>\n",
       "    <tr>\n",
       "      <th>12</th>\n",
       "      <td>q511</td>\n",
       "      <td>511</td>\n",
       "      <td>If you flipped three pennies, what would be th...</td>\n",
       "      <td>I admit, I don't know!</td>\n",
       "      <td>1 in 3</td>\n",
       "      <td>1 in 4</td>\n",
       "      <td>1 in 8</td>\n",
       "      <td>3</td>\n",
       "    </tr>\n",
       "    <tr>\n",
       "      <th>13</th>\n",
       "      <td>q57844</td>\n",
       "      <td>57844</td>\n",
       "      <td>Which is the day before the day after yesterday?</td>\n",
       "      <td>Yesterday.</td>\n",
       "      <td>Today.</td>\n",
       "      <td>Tomorrow.</td>\n",
       "      <td>NaN</td>\n",
       "      <td>1</td>\n",
       "    </tr>\n",
       "  </tbody>\n",
       "</table>\n",
       "</div>"
      ],
      "text/plain": [
       "    Column     ID                                               text  \\\n",
       "0     q178    178                                   Which is bigger?   \n",
       "1     q255    255                STALE is to STEAL as 89475 is to...   \n",
       "2    q1201   1201   What is next in this series? 1, 4, 10, 19, 31, _   \n",
       "3   q14835  14835  If you turn a left-handed glove inside out, it...   \n",
       "4    q8672   8672  In the line 'Wherefore art thou Romeo?' what d...   \n",
       "5   q18154  18154                 How many fortnights are in a year?   \n",
       "6   q12625  12625  Half of all policemen are thieves and half of ...   \n",
       "7     q477    477                                   Which is longer?   \n",
       "8     q256    256  When birds stand on power lines and don't get ...   \n",
       "9   q43639  43639                                    Etymology is...   \n",
       "10    q267    267  If some men are doctors and some doctors are t...   \n",
       "11  q18698  18698          A little grade 10 science. Ideal Gas Law?   \n",
       "12    q511    511  If you flipped three pennies, what would be th...   \n",
       "13  q57844  57844   Which is the day before the day after yesterday?   \n",
       "\n",
       "                                     option_1  \\\n",
       "0                                   The earth   \n",
       "1                                       89457   \n",
       "2                                          36   \n",
       "3                             On my left hand   \n",
       "4                                         Why   \n",
       "5                                          52   \n",
       "6                                         Yes   \n",
       "7                                      A mile   \n",
       "8   Good timing, they only land between calls   \n",
       "9                 The study of culinary arts.   \n",
       "10                                        Yes   \n",
       "11                                   PV = nRT   \n",
       "12                     I admit, I don't know!   \n",
       "13                                 Yesterday.   \n",
       "\n",
       "                                          option_2  \\\n",
       "0                                          The sun   \n",
       "1                                            98547   \n",
       "2                                               48   \n",
       "3                                 On my right hand   \n",
       "4                                            Where   \n",
       "5                                               14   \n",
       "6                                               No   \n",
       "7                                      A kilometer   \n",
       "8   Body materials that are insulated from current   \n",
       "9                            The study of insects.   \n",
       "10                                              No   \n",
       "11                                     G + V = 1/T   \n",
       "12                                          1 in 3   \n",
       "13                                          Today.   \n",
       "\n",
       "                                       option_3  \\\n",
       "0                                           NaN   \n",
       "1                                         89754   \n",
       "2                                            46   \n",
       "3                                           NaN   \n",
       "4                                           How   \n",
       "5                                            26   \n",
       "6                                           NaN   \n",
       "7                                 I don't know!   \n",
       "8   Not touching anything else at the same time   \n",
       "9            The study of the origins of words.   \n",
       "10                                          NaN   \n",
       "11                                       y=mx+b   \n",
       "12                                       1 in 4   \n",
       "13                                    Tomorrow.   \n",
       "\n",
       "                                         option_4  option_correct  \n",
       "0                                             NaN               2  \n",
       "1                                           89547               4  \n",
       "2                         Don't know / don't care               3  \n",
       "3                                             NaN               2  \n",
       "4                                Who cares / wtf?               1  \n",
       "5                                             365               3  \n",
       "6                                             NaN               2  \n",
       "7                                             NaN               1  \n",
       "8   They do get hurt, they just express it poorly               3  \n",
       "9                                   I don't know.               3  \n",
       "10                                            NaN               2  \n",
       "11          Not sure / wish I could skip this one               1  \n",
       "12                                         1 in 8               3  \n",
       "13                                            NaN               1  "
      ]
     },
     "execution_count": 20,
     "metadata": {},
     "output_type": "execute_result"
    }
   ],
   "source": [
    "#cognitive questions\n",
    "cog_df.head(14)"
   ]
  }
 ],
 "metadata": {
  "kernelspec": {
   "display_name": "Python 3",
   "language": "python",
   "name": "python3"
  },
  "language_info": {
   "codemirror_mode": {
    "name": "ipython",
    "version": 3
   },
   "file_extension": ".py",
   "mimetype": "text/x-python",
   "name": "python",
   "nbconvert_exporter": "python",
   "pygments_lexer": "ipython3",
   "version": "3.5.3"
  }
 },
 "nbformat": 4,
 "nbformat_minor": 2
}
