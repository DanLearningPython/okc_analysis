{
 "cells": [
  {
   "cell_type": "markdown",
   "metadata": {},
   "source": [
    "## OKC - Effects of Bullying\n",
    "\n",
    "This analysis seeks to build upon the study \"Impact of Bullying in Childhood on Adult Health, Wealth, Crime and Social Outcomes\" (https://www.ncbi.nlm.nih.gov/pmc/articles/PMC4090076/), which claims that bullying causes results in a \"increased risk of poor health, wealth and social relationship outcomes in adulthood.\"\n",
    "\n",
    "Our data set consists of individuals who answered q38555:\n",
    "- How often were you picked on by other kids your age when you were growing up (Very often, Sometimes, Rarely, Never)\n",
    "\n",
    "We will segment individuals based on their answer to see how else they were affected. Also, we will briefly explore any interesting trends that we come across.\n"
   ]
  },
  {
   "cell_type": "code",
   "execution_count": 83,
   "metadata": {
    "collapsed": true
   },
   "outputs": [],
   "source": [
    "import pandas as pd\n",
    "import numpy as np\n",
    "import matplotlib.pyplot as plt\n",
    "import seaborn as sns\n",
    "from sklearn import metrics\n",
    "from sklearn import preprocessing\n",
    "\n",
    "%matplotlib inline\n",
    "#display floats with sci notation\n",
    "#pd.options.display.float_format = '{:40,.4f}'.format"
   ]
  },
  {
   "cell_type": "code",
   "execution_count": 5,
   "metadata": {
    "scrolled": false
   },
   "outputs": [
    {
     "data": {
      "text/plain": [
       "(12527, 2625)"
      ]
     },
     "execution_count": 5,
     "metadata": {},
     "output_type": "execute_result"
    }
   ],
   "source": [
    "okc_df = pd.read_csv('okc_bullied.txt', sep='\\t', low_memory=False)\n",
    "okc_df.shape"
   ]
  },
  {
   "cell_type": "code",
   "execution_count": 6,
   "metadata": {
    "scrolled": false
   },
   "outputs": [
    {
     "data": {
      "text/plain": [
       "(-1.1050038013334962,\n",
       " 1.100238276253976,\n",
       " -1.1150998817569091,\n",
       " 1.1100890449549958)"
      ]
     },
     "execution_count": 6,
     "metadata": {},
     "output_type": "execute_result"
    },
    {
     "data": {
      "image/png": "[encoded data removed]",
      "text/plain": [
       "<matplotlib.figure.Figure at 0xb4a20f0>"
      ]
     },
     "metadata": {},
     "output_type": "display_data"
    }
   ],
   "source": [
    "#sort_index conveniently sorts the pie graph so rarely and never are next to eachother.\n",
    "okc_df['q38555'].value_counts().sort_index().plot.pie()\n",
    "plt.title('q38555 - Frequency of being bullied')\n",
    "plt.axis('equal')"
   ]
  },
  {
   "cell_type": "markdown",
   "metadata": {},
   "source": [
    "Our distribution shows that the vast majority of the OKC user sample has been bullied at some point during the childhood. Additionally, the majority of the users were bullied occasionally (sometimes) and frequently (very often). \n",
    "\n",
    "It is worth noting that the line between rarely, sometimes, and very often may be subjective, as each individual may interpret their frequency of being bullied differently.\n",
    "\n",
    "Next, we will see if there is any correlation between childhood bullying and adult happiness.\n",
    "q4018 - Are you happy with your life?"
   ]
  },
  {
   "cell_type": "code",
   "execution_count": 7,
   "metadata": {
    "scrolled": true
   },
   "outputs": [
    {
     "data": {
      "text/html": [
       "<div>\n",
       "<style>\n",
       "    .dataframe thead tr:only-child th {\n",
       "        text-align: right;\n",
       "    }\n",
       "\n",
       "    .dataframe thead th {\n",
       "        text-align: left;\n",
       "    }\n",
       "\n",
       "    .dataframe tbody tr th {\n",
       "        vertical-align: top;\n",
       "    }\n",
       "</style>\n",
       "<table border=\"1\" class=\"dataframe\">\n",
       "  <thead>\n",
       "    <tr style=\"text-align: right;\">\n",
       "      <th></th>\n",
       "      <th>q4018_No</th>\n",
       "      <th>q4018_Yes</th>\n",
       "    </tr>\n",
       "  </thead>\n",
       "  <tbody>\n",
       "    <tr>\n",
       "      <th>q38555_Never.</th>\n",
       "      <td>-0.049170</td>\n",
       "      <td>0.054878</td>\n",
       "    </tr>\n",
       "    <tr>\n",
       "      <th>q38555_Rarely.</th>\n",
       "      <td>-0.063474</td>\n",
       "      <td>0.076911</td>\n",
       "    </tr>\n",
       "    <tr>\n",
       "      <th>q38555_Sometimes.</th>\n",
       "      <td>0.001346</td>\n",
       "      <td>-0.010102</td>\n",
       "    </tr>\n",
       "    <tr>\n",
       "      <th>q38555_Very often.</th>\n",
       "      <td>0.103701</td>\n",
       "      <td>-0.112686</td>\n",
       "    </tr>\n",
       "  </tbody>\n",
       "</table>\n",
       "</div>"
      ],
      "text/plain": [
       "                    q4018_No  q4018_Yes\n",
       "q38555_Never.      -0.049170   0.054878\n",
       "q38555_Rarely.     -0.063474   0.076911\n",
       "q38555_Sometimes.   0.001346  -0.010102\n",
       "q38555_Very often.  0.103701  -0.112686"
      ]
     },
     "execution_count": 7,
     "metadata": {},
     "output_type": "execute_result"
    }
   ],
   "source": [
    "happy_corr = pd.get_dummies(okc_df, columns=['q38555','q4018'])[['q38555_Never.','q38555_Rarely.','q38555_Sometimes.','q38555_Very often.','q4018_No','q4018_Yes']].corr()\n",
    "happy_corr[['q4018_No','q4018_Yes']].head(4)\n"
   ]
  },
  {
   "cell_type": "markdown",
   "metadata": {},
   "source": [
    "There seems to be a very weak correlation between current happiness and frequency of childhood bullying in this data set.\n",
    "\n",
    "How about hard drugs?  \n",
    "q80 -\tWhat's your deal with harder drugs (stuff beyond pot)?"
   ]
  },
  {
   "cell_type": "code",
   "execution_count": 8,
   "metadata": {},
   "outputs": [
    {
     "data": {
      "text/html": [
       "<div>\n",
       "<style>\n",
       "    .dataframe thead tr:only-child th {\n",
       "        text-align: right;\n",
       "    }\n",
       "\n",
       "    .dataframe thead th {\n",
       "        text-align: left;\n",
       "    }\n",
       "\n",
       "    .dataframe tbody tr th {\n",
       "        vertical-align: top;\n",
       "    }\n",
       "</style>\n",
       "<table border=\"1\" class=\"dataframe\">\n",
       "  <thead>\n",
       "    <tr style=\"text-align: right;\">\n",
       "      <th></th>\n",
       "      <th>q80_I never do drugs.</th>\n",
       "      <th>q80_I've done drugs in the past, but no longer.</th>\n",
       "      <th>q80_I do drugs occasionally.</th>\n",
       "      <th>q80_I do drugs regularly.</th>\n",
       "    </tr>\n",
       "  </thead>\n",
       "  <tbody>\n",
       "    <tr>\n",
       "      <th>q38555_Never.</th>\n",
       "      <td>0.006937</td>\n",
       "      <td>-0.002426</td>\n",
       "      <td>-0.023794</td>\n",
       "      <td>0.004772</td>\n",
       "    </tr>\n",
       "    <tr>\n",
       "      <th>q38555_Rarely.</th>\n",
       "      <td>0.000721</td>\n",
       "      <td>0.014537</td>\n",
       "      <td>-0.021749</td>\n",
       "      <td>-0.015202</td>\n",
       "    </tr>\n",
       "    <tr>\n",
       "      <th>q38555_Sometimes.</th>\n",
       "      <td>-0.019223</td>\n",
       "      <td>0.011757</td>\n",
       "      <td>0.014314</td>\n",
       "      <td>-0.003961</td>\n",
       "    </tr>\n",
       "    <tr>\n",
       "      <th>q38555_Very often.</th>\n",
       "      <td>0.015867</td>\n",
       "      <td>-0.027435</td>\n",
       "      <td>0.024941</td>\n",
       "      <td>0.017667</td>\n",
       "    </tr>\n",
       "  </tbody>\n",
       "</table>\n",
       "</div>"
      ],
      "text/plain": [
       "                    q80_I never do drugs.  \\\n",
       "q38555_Never.                    0.006937   \n",
       "q38555_Rarely.                   0.000721   \n",
       "q38555_Sometimes.               -0.019223   \n",
       "q38555_Very often.               0.015867   \n",
       "\n",
       "                    q80_I've done drugs in the past, but no longer.  \\\n",
       "q38555_Never.                                             -0.002426   \n",
       "q38555_Rarely.                                             0.014537   \n",
       "q38555_Sometimes.                                          0.011757   \n",
       "q38555_Very often.                                        -0.027435   \n",
       "\n",
       "                    q80_I do drugs occasionally.  q80_I do drugs regularly.  \n",
       "q38555_Never.                          -0.023794                   0.004772  \n",
       "q38555_Rarely.                         -0.021749                  -0.015202  \n",
       "q38555_Sometimes.                       0.014314                  -0.003961  \n",
       "q38555_Very often.                      0.024941                   0.017667  "
      ]
     },
     "execution_count": 8,
     "metadata": {},
     "output_type": "execute_result"
    }
   ],
   "source": [
    "drug_corr = pd.get_dummies(okc_df, columns=['q38555','q80'])[['q38555_Never.','q38555_Rarely.','q38555_Sometimes.','q38555_Very often.','q80_I never do drugs.',\"q80_I've done drugs in the past, but no longer.\",'q80_I do drugs occasionally.','q80_I do drugs regularly.']].corr()\n",
    "drug_corr[['q80_I never do drugs.',\"q80_I've done drugs in the past, but no longer.\",'q80_I do drugs occasionally.','q80_I do drugs regularly.']].head(4)\n"
   ]
  },
  {
   "cell_type": "code",
   "execution_count": 76,
   "metadata": {
    "scrolled": true
   },
   "outputs": [
    {
     "data": {
      "text/plain": [
       "Sometimes     0.558163\n",
       "Rarely        0.250991\n",
       "Never         0.098976\n",
       "Very often    0.091870\n",
       "Name: q77, dtype: float64"
      ]
     },
     "execution_count": 76,
     "metadata": {},
     "output_type": "execute_result"
    }
   ],
   "source": [
    "okc_df['q77'].value_counts(normalize=True)"
   ]
  },
  {
   "cell_type": "markdown",
   "metadata": {},
   "source": [
    "Based off of the above, there does not seem to be a significant correlation between childhood bullying and hard drug use. \n",
    "\n",
    "Interestingly, about 70% of the OKC user base claimed to have never done drugs. 7% of the users do drugs occasionally and .3% do drugs regularly. This is in line with the Substance Abuse and Mental Health Services Administration's claim that \"9.4 percent of the population—had used an illicit drug in the past month.\"(https://www.drugabuse.gov/publications/drugfacts/nationwide-trends)\n",
    "\n",
    "It is possilbe that the usage rate is lower on OKC (7.3% vs 9.4%) because people do not want to admit on a public site that they do illegal hard drugs.\n",
    "\n",
    "Next, we will see if childhood bullying has any impact on cognitive abilities. This will be a number computed by grading a user's repsonse to a number of questions with an absolute right or wrong answer. These questions will be attached in the appendix. The cognitive ability index is inspired by Kirkegaard's analysis on the same data set (https://openpsych.net/files/papers/Kirkegaard_2016g.pdf)\n",
    "\n"
   ]
  },
  {
   "cell_type": "code",
   "execution_count": 51,
   "metadata": {},
   "outputs": [
    {
     "data": {
      "text/plain": [
       "(14, 8)"
      ]
     },
     "execution_count": 51,
     "metadata": {},
     "output_type": "execute_result"
    }
   ],
   "source": [
    "cog_df = pd.read_csv('cog_text.txt', sep='\\t', low_memory=False)\n",
    "cog_df.shape"
   ]
  },
  {
   "cell_type": "code",
   "execution_count": 71,
   "metadata": {},
   "outputs": [],
   "source": [
    "def getCogIndx(row):\n",
    "    \n",
    "    cog_index = None\n",
    "    answered_questions = 0\n",
    "    total_score = 0 #perhaps introduce question and answer weights\n",
    "    \n",
    "    for index, question in cog_df.iterrows():\n",
    "        column = question['Column']\n",
    "        correct_answer = question[\"option_\"+str(question['option_correct'])]\n",
    "        \n",
    "        user_answer = row[column]\n",
    "        \n",
    "        if(user_answer is np.nan):\n",
    "            pass #user did not answer question\n",
    "        else:\n",
    "            answered_questions += 1\n",
    "            if(user_answer == correct_answer):\n",
    "                total_score +=1\n",
    "                \n",
    "    if(answered_questions > 0):\n",
    "        cog_index = total_score / answered_questions\n",
    "    #else:\n",
    "     #   print('no questions answered')\n",
    "\n",
    "    return cog_index "
   ]
  },
  {
   "cell_type": "code",
   "execution_count": 72,
   "metadata": {},
   "outputs": [],
   "source": [
    "okc_df['cog_indx'] = okc_df.apply(getCogIndx, axis=1)"
   ]
  },
  {
   "cell_type": "code",
   "execution_count": 70,
   "metadata": {
    "scrolled": true
   },
   "outputs": [
    {
     "data": {
      "text/plain": [
       "count    12527.000000\n",
       "mean         0.550544\n",
       "std          0.183808\n",
       "min          0.000000\n",
       "25%          0.428571\n",
       "50%          0.571429\n",
       "75%          0.700000\n",
       "max          0.857143\n",
       "Name: cog_indx, dtype: float64"
      ]
     },
     "execution_count": 70,
     "metadata": {},
     "output_type": "execute_result"
    }
   ],
   "source": [
    "okc_df['cog_indx'].describe()"
   ]
  },
  {
   "cell_type": "code",
   "execution_count": 110,
   "metadata": {
    "scrolled": true
   },
   "outputs": [
    {
     "name": "stderr",
     "output_type": "stream",
     "text": [
      "E:\\Users\\FBI\\Anaconda3\\lib\\site-packages\\sklearn\\utils\\validation.py:395: DeprecationWarning: Passing 1d arrays as data is deprecated in 0.17 and will raise ValueError in 0.19. Reshape your data either using X.reshape(-1, 1) if your data has a single feature or X.reshape(1, -1) if it contains a single sample.\n",
      "  DeprecationWarning)\n"
     ]
    }
   ],
   "source": [
    "#normalize data to 0-1 range\n",
    "norm_cog_indx = preprocessing.normalize(okc_df['cog_indx'], axis=0).ravel()"
   ]
  },
  {
   "cell_type": "code",
   "execution_count": 111,
   "metadata": {},
   "outputs": [
    {
     "data": {
      "text/plain": [
       "array([ 1.,  1.,  1., ...,  0.,  0.,  0.])"
      ]
     },
     "execution_count": 111,
     "metadata": {},
     "output_type": "execute_result"
    }
   ],
   "source": [
    "norm_cog_indx"
   ]
  },
  {
   "cell_type": "code",
   "execution_count": 112,
   "metadata": {},
   "outputs": [
    {
     "data": {
      "text/plain": [
       "(12527,)"
      ]
     },
     "execution_count": 112,
     "metadata": {},
     "output_type": "execute_result"
    }
   ],
   "source": [
    "norm_cog_indx.shape"
   ]
  },
  {
   "cell_type": "code",
   "execution_count": 107,
   "metadata": {},
   "outputs": [
    {
     "data": {
      "text/plain": [
       "(12527, 2627)"
      ]
     },
     "execution_count": 107,
     "metadata": {},
     "output_type": "execute_result"
    }
   ],
   "source": [
    "okc_df.shape"
   ]
  },
  {
   "cell_type": "code",
   "execution_count": 113,
   "metadata": {},
   "outputs": [],
   "source": [
    "okc_df['cog_indx_norm'] = norm_cog_indx"
   ]
  },
  {
   "cell_type": "code",
   "execution_count": 114,
   "metadata": {},
   "outputs": [
    {
     "data": {
      "text/plain": [
       "count    12527.000000\n",
       "mean         0.985791\n",
       "std          0.118358\n",
       "min          0.000000\n",
       "25%          1.000000\n",
       "50%          1.000000\n",
       "75%          1.000000\n",
       "max          1.000000\n",
       "Name: cog_indx_norm, dtype: float64"
      ]
     },
     "execution_count": 114,
     "metadata": {},
     "output_type": "execute_result"
    }
   ],
   "source": [
    "okc_df['cog_indx_norm'].describe()"
   ]
  },
  {
   "cell_type": "markdown",
   "metadata": {},
   "source": [
    "There are definitely issues with this method of cognitive measurement. This method assumes that all questions equally determine one's cognitive ability. Additionally, users would possibly be able to copy and paste the question into a search engine and easily get the answer. Surprisingly, nobody in this data set had a perfect score (1), even with that possibility. "
   ]
  },
  {
   "cell_type": "code",
   "execution_count": 79,
   "metadata": {},
   "outputs": [
    {
     "data": {
      "text/plain": [
       "q80_I never do drugs.                              0.048446\n",
       "q80_I've done drugs in the past, but no longer.   -0.015585\n",
       "q80_I do drugs occasionally.                       0.015569\n",
       "q80_I do drugs regularly.                          0.001153\n",
       "Name: cog_indx, dtype: float64"
      ]
     },
     "execution_count": 79,
     "metadata": {},
     "output_type": "execute_result"
    }
   ],
   "source": [
    "drug_cog_corr = pd.get_dummies(okc_df, columns=['q80'])[['q80_I never do drugs.',\"q80_I've done drugs in the past, but no longer.\",'q80_I do drugs occasionally.','q80_I do drugs regularly.','cog_indx']].corr()\n",
    "drug_cog_corr['cog_indx'].head(4)"
   ]
  },
  {
   "cell_type": "markdown",
   "metadata": {},
   "source": [
    "Drug use does not seem to have a major impact on their cognitive index, though it may be worth noting that those who have never done drugs have the highest positive correlation (.048) with our index.\n",
    "\n",
    "Next, we'll try to reproduce the findings of Kirkegaard, who claims that \"We see a linear negative relationship between the\n",
    "rated importance of religion/God in life and cognitive ability\""
   ]
  },
  {
   "cell_type": "code",
   "execution_count": 82,
   "metadata": {},
   "outputs": [
    {
     "data": {
      "text/plain": [
       "q41_Not at all important    0.203874\n",
       "q41_Not very important     -0.003465\n",
       "q41_Somewhat important     -0.138635\n",
       "q41_Extremely important    -0.091800\n",
       "Name: cog_indx, dtype: float64"
      ]
     },
     "execution_count": 82,
     "metadata": {},
     "output_type": "execute_result"
    }
   ],
   "source": [
    "drug_cog_corr = pd.get_dummies(okc_df, columns=['q41'])[['q41_Not at all important','q41_Not very important','q41_Somewhat important','q41_Extremely important','cog_indx']].corr()\n",
    "drug_cog_corr['cog_indx'].head(4)"
   ]
  },
  {
   "cell_type": "code",
   "execution_count": 80,
   "metadata": {},
   "outputs": [
    {
     "data": {
      "text/plain": [
       "Not at all important    0.486817\n",
       "Not very important      0.225401\n",
       "Somewhat important      0.205772\n",
       "Extremely important     0.082009\n",
       "Name: q41, dtype: float64"
      ]
     },
     "execution_count": 80,
     "metadata": {},
     "output_type": "execute_result"
    }
   ],
   "source": [
    "okc_df['q41'].value_counts(normalize=True)"
   ]
  },
  {
   "cell_type": "markdown",
   "metadata": {},
   "source": [
    "### Appendix"
   ]
  },
  {
   "cell_type": "code",
   "execution_count": 67,
   "metadata": {},
   "outputs": [
    {
     "data": {
      "text/html": [
       "<div>\n",
       "<style>\n",
       "    .dataframe thead tr:only-child th {\n",
       "        text-align: right;\n",
       "    }\n",
       "\n",
       "    .dataframe thead th {\n",
       "        text-align: left;\n",
       "    }\n",
       "\n",
       "    .dataframe tbody tr th {\n",
       "        vertical-align: top;\n",
       "    }\n",
       "</style>\n",
       "<table border=\"1\" class=\"dataframe\">\n",
       "  <thead>\n",
       "    <tr style=\"text-align: right;\">\n",
       "      <th></th>\n",
       "      <th>Column</th>\n",
       "      <th>ID</th>\n",
       "      <th>text</th>\n",
       "      <th>option_1</th>\n",
       "      <th>option_2</th>\n",
       "      <th>option_3</th>\n",
       "      <th>option_4</th>\n",
       "      <th>option_correct</th>\n",
       "    </tr>\n",
       "  </thead>\n",
       "  <tbody>\n",
       "    <tr>\n",
       "      <th>0</th>\n",
       "      <td>q178</td>\n",
       "      <td>178</td>\n",
       "      <td>Which is bigger?</td>\n",
       "      <td>The earth</td>\n",
       "      <td>The sun</td>\n",
       "      <td>NaN</td>\n",
       "      <td>NaN</td>\n",
       "      <td>2</td>\n",
       "    </tr>\n",
       "    <tr>\n",
       "      <th>1</th>\n",
       "      <td>q255</td>\n",
       "      <td>255</td>\n",
       "      <td>STALE is to STEAL as 89475 is to...</td>\n",
       "      <td>89457</td>\n",
       "      <td>98547</td>\n",
       "      <td>89754</td>\n",
       "      <td>89547</td>\n",
       "      <td>4</td>\n",
       "    </tr>\n",
       "    <tr>\n",
       "      <th>2</th>\n",
       "      <td>q1201</td>\n",
       "      <td>1201</td>\n",
       "      <td>What is next in this series? 1, 4, 10, 19, 31, _</td>\n",
       "      <td>36</td>\n",
       "      <td>48</td>\n",
       "      <td>46</td>\n",
       "      <td>Don't know / don't care</td>\n",
       "      <td>3</td>\n",
       "    </tr>\n",
       "    <tr>\n",
       "      <th>3</th>\n",
       "      <td>q14835</td>\n",
       "      <td>14835</td>\n",
       "      <td>If you turn a left-handed glove inside out, it...</td>\n",
       "      <td>On my left hand</td>\n",
       "      <td>On my right hand</td>\n",
       "      <td>NaN</td>\n",
       "      <td>NaN</td>\n",
       "      <td>2</td>\n",
       "    </tr>\n",
       "    <tr>\n",
       "      <th>4</th>\n",
       "      <td>q8672</td>\n",
       "      <td>8672</td>\n",
       "      <td>In the line 'Wherefore art thou Romeo?' what d...</td>\n",
       "      <td>Why</td>\n",
       "      <td>Where</td>\n",
       "      <td>How</td>\n",
       "      <td>Who cares / wtf?</td>\n",
       "      <td>1</td>\n",
       "    </tr>\n",
       "    <tr>\n",
       "      <th>5</th>\n",
       "      <td>q18154</td>\n",
       "      <td>18154</td>\n",
       "      <td>How many fortnights are in a year?</td>\n",
       "      <td>52</td>\n",
       "      <td>14</td>\n",
       "      <td>26</td>\n",
       "      <td>365</td>\n",
       "      <td>3</td>\n",
       "    </tr>\n",
       "    <tr>\n",
       "      <th>6</th>\n",
       "      <td>q12625</td>\n",
       "      <td>12625</td>\n",
       "      <td>Half of all policemen are thieves and half of ...</td>\n",
       "      <td>Yes</td>\n",
       "      <td>No</td>\n",
       "      <td>NaN</td>\n",
       "      <td>NaN</td>\n",
       "      <td>2</td>\n",
       "    </tr>\n",
       "    <tr>\n",
       "      <th>7</th>\n",
       "      <td>q477</td>\n",
       "      <td>477</td>\n",
       "      <td>Which is longer?</td>\n",
       "      <td>A mile</td>\n",
       "      <td>A kilometer</td>\n",
       "      <td>I don't know!</td>\n",
       "      <td>NaN</td>\n",
       "      <td>1</td>\n",
       "    </tr>\n",
       "    <tr>\n",
       "      <th>8</th>\n",
       "      <td>q256</td>\n",
       "      <td>256</td>\n",
       "      <td>When birds stand on power lines and don't get ...</td>\n",
       "      <td>Good timing, they only land between calls</td>\n",
       "      <td>Body materials that are insulated from current</td>\n",
       "      <td>Not touching anything else at the same time</td>\n",
       "      <td>They do get hurt, they just express it poorly</td>\n",
       "      <td>3</td>\n",
       "    </tr>\n",
       "    <tr>\n",
       "      <th>9</th>\n",
       "      <td>q43639</td>\n",
       "      <td>43639</td>\n",
       "      <td>Etymology is...</td>\n",
       "      <td>The study of culinary arts.</td>\n",
       "      <td>The study of insects.</td>\n",
       "      <td>The study of the origins of words.</td>\n",
       "      <td>I don't know.</td>\n",
       "      <td>3</td>\n",
       "    </tr>\n",
       "    <tr>\n",
       "      <th>10</th>\n",
       "      <td>q267</td>\n",
       "      <td>267</td>\n",
       "      <td>If some men are doctors and some doctors are t...</td>\n",
       "      <td>Yes</td>\n",
       "      <td>No</td>\n",
       "      <td>NaN</td>\n",
       "      <td>NaN</td>\n",
       "      <td>2</td>\n",
       "    </tr>\n",
       "    <tr>\n",
       "      <th>11</th>\n",
       "      <td>q18698</td>\n",
       "      <td>18698</td>\n",
       "      <td>A little grade 10 science. Ideal Gas Law?</td>\n",
       "      <td>PV = nRT</td>\n",
       "      <td>G + V = 1/T</td>\n",
       "      <td>y=mx+b</td>\n",
       "      <td>Not sure / wish I could skip this one</td>\n",
       "      <td>1</td>\n",
       "    </tr>\n",
       "    <tr>\n",
       "      <th>12</th>\n",
       "      <td>q511</td>\n",
       "      <td>511</td>\n",
       "      <td>If you flipped three pennies, what would be th...</td>\n",
       "      <td>I admit, I don't know!</td>\n",
       "      <td>1 in 3</td>\n",
       "      <td>1 in 4</td>\n",
       "      <td>1 in 8</td>\n",
       "      <td>3</td>\n",
       "    </tr>\n",
       "    <tr>\n",
       "      <th>13</th>\n",
       "      <td>q57844</td>\n",
       "      <td>57844</td>\n",
       "      <td>Which is the day before the day after yesterday?</td>\n",
       "      <td>Yesterday.</td>\n",
       "      <td>Today.</td>\n",
       "      <td>Tomorrow.</td>\n",
       "      <td>NaN</td>\n",
       "      <td>1</td>\n",
       "    </tr>\n",
       "  </tbody>\n",
       "</table>\n",
       "</div>"
      ],
      "text/plain": [
       "    Column     ID                                               text  \\\n",
       "0     q178    178                                   Which is bigger?   \n",
       "1     q255    255                STALE is to STEAL as 89475 is to...   \n",
       "2    q1201   1201   What is next in this series? 1, 4, 10, 19, 31, _   \n",
       "3   q14835  14835  If you turn a left-handed glove inside out, it...   \n",
       "4    q8672   8672  In the line 'Wherefore art thou Romeo?' what d...   \n",
       "5   q18154  18154                 How many fortnights are in a year?   \n",
       "6   q12625  12625  Half of all policemen are thieves and half of ...   \n",
       "7     q477    477                                   Which is longer?   \n",
       "8     q256    256  When birds stand on power lines and don't get ...   \n",
       "9   q43639  43639                                    Etymology is...   \n",
       "10    q267    267  If some men are doctors and some doctors are t...   \n",
       "11  q18698  18698          A little grade 10 science. Ideal Gas Law?   \n",
       "12    q511    511  If you flipped three pennies, what would be th...   \n",
       "13  q57844  57844   Which is the day before the day after yesterday?   \n",
       "\n",
       "                                     option_1  \\\n",
       "0                                   The earth   \n",
       "1                                       89457   \n",
       "2                                          36   \n",
       "3                             On my left hand   \n",
       "4                                         Why   \n",
       "5                                          52   \n",
       "6                                         Yes   \n",
       "7                                      A mile   \n",
       "8   Good timing, they only land between calls   \n",
       "9                 The study of culinary arts.   \n",
       "10                                        Yes   \n",
       "11                                   PV = nRT   \n",
       "12                     I admit, I don't know!   \n",
       "13                                 Yesterday.   \n",
       "\n",
       "                                          option_2  \\\n",
       "0                                          The sun   \n",
       "1                                            98547   \n",
       "2                                               48   \n",
       "3                                 On my right hand   \n",
       "4                                            Where   \n",
       "5                                               14   \n",
       "6                                               No   \n",
       "7                                      A kilometer   \n",
       "8   Body materials that are insulated from current   \n",
       "9                            The study of insects.   \n",
       "10                                              No   \n",
       "11                                     G + V = 1/T   \n",
       "12                                          1 in 3   \n",
       "13                                          Today.   \n",
       "\n",
       "                                       option_3  \\\n",
       "0                                           NaN   \n",
       "1                                         89754   \n",
       "2                                            46   \n",
       "3                                           NaN   \n",
       "4                                           How   \n",
       "5                                            26   \n",
       "6                                           NaN   \n",
       "7                                 I don't know!   \n",
       "8   Not touching anything else at the same time   \n",
       "9            The study of the origins of words.   \n",
       "10                                          NaN   \n",
       "11                                       y=mx+b   \n",
       "12                                       1 in 4   \n",
       "13                                    Tomorrow.   \n",
       "\n",
       "                                         option_4  option_correct  \n",
       "0                                             NaN               2  \n",
       "1                                           89547               4  \n",
       "2                         Don't know / don't care               3  \n",
       "3                                             NaN               2  \n",
       "4                                Who cares / wtf?               1  \n",
       "5                                             365               3  \n",
       "6                                             NaN               2  \n",
       "7                                             NaN               1  \n",
       "8   They do get hurt, they just express it poorly               3  \n",
       "9                                   I don't know.               3  \n",
       "10                                            NaN               2  \n",
       "11          Not sure / wish I could skip this one               1  \n",
       "12                                         1 in 8               3  \n",
       "13                                            NaN               1  "
      ]
     },
     "execution_count": 67,
     "metadata": {},
     "output_type": "execute_result"
    }
   ],
   "source": [
    "#cognitive questions\n",
    "cog_df.head(14)"
   ]
  }
 ],
 "metadata": {
  "kernelspec": {
   "display_name": "Python 3",
   "language": "python",
   "name": "python3"
  },
  "language_info": {
   "codemirror_mode": {
    "name": "ipython",
    "version": 3
   },
   "file_extension": ".py",
   "mimetype": "text/x-python",
   "name": "python",
   "nbconvert_exporter": "python",
   "pygments_lexer": "ipython3",
   "version": "3.6.0"
  }
 },
 "nbformat": 4,
 "nbformat_minor": 2
}
